{
 "cells": [
  {
   "cell_type": "code",
   "execution_count": 17,
   "metadata": {},
   "outputs": [],
   "source": [
    "import pandas as pd\n",
    "%matplotlib inline\n",
    "import matplotlib.pyplot as plt\n",
    "import numpy as np\n",
    "import datetime\n",
    "import torch\n",
    "import torch.nn as nn\n",
    "import torch.optim as optim"
   ]
  },
  {
   "cell_type": "markdown",
   "metadata": {},
   "source": [
    "## Load Data"
   ]
  },
  {
   "cell_type": "code",
   "execution_count": 2,
   "metadata": {},
   "outputs": [
    {
     "data": {
      "text/html": [
       "<div>\n",
       "<style scoped>\n",
       "    .dataframe tbody tr th:only-of-type {\n",
       "        vertical-align: middle;\n",
       "    }\n",
       "\n",
       "    .dataframe tbody tr th {\n",
       "        vertical-align: top;\n",
       "    }\n",
       "\n",
       "    .dataframe thead th {\n",
       "        text-align: right;\n",
       "    }\n",
       "</style>\n",
       "<table border=\"1\" class=\"dataframe\">\n",
       "  <thead>\n",
       "    <tr style=\"text-align: right;\">\n",
       "      <th></th>\n",
       "      <th>Date</th>\n",
       "      <th>Close/Last</th>\n",
       "      <th>Volume</th>\n",
       "      <th>Open</th>\n",
       "      <th>High</th>\n",
       "      <th>Low</th>\n",
       "    </tr>\n",
       "  </thead>\n",
       "  <tbody>\n",
       "    <tr>\n",
       "      <th>0</th>\n",
       "      <td>11/21/2024</td>\n",
       "      <td>$146.67</td>\n",
       "      <td>400946600</td>\n",
       "      <td>$149.35</td>\n",
       "      <td>$152.89</td>\n",
       "      <td>$140.70</td>\n",
       "    </tr>\n",
       "    <tr>\n",
       "      <th>1</th>\n",
       "      <td>11/20/2024</td>\n",
       "      <td>$145.89</td>\n",
       "      <td>309871700</td>\n",
       "      <td>$147.41</td>\n",
       "      <td>$147.56</td>\n",
       "      <td>$142.73</td>\n",
       "    </tr>\n",
       "    <tr>\n",
       "      <th>2</th>\n",
       "      <td>11/19/2024</td>\n",
       "      <td>$147.01</td>\n",
       "      <td>227834900</td>\n",
       "      <td>$141.32</td>\n",
       "      <td>$147.13</td>\n",
       "      <td>$140.99</td>\n",
       "    </tr>\n",
       "    <tr>\n",
       "      <th>3</th>\n",
       "      <td>11/18/2024</td>\n",
       "      <td>$140.15</td>\n",
       "      <td>221866000</td>\n",
       "      <td>$139.50</td>\n",
       "      <td>$141.55</td>\n",
       "      <td>$137.15</td>\n",
       "    </tr>\n",
       "    <tr>\n",
       "      <th>4</th>\n",
       "      <td>11/15/2024</td>\n",
       "      <td>$141.98</td>\n",
       "      <td>250132900</td>\n",
       "      <td>$144.87</td>\n",
       "      <td>$145.24</td>\n",
       "      <td>$140.08</td>\n",
       "    </tr>\n",
       "  </tbody>\n",
       "</table>\n",
       "</div>"
      ],
      "text/plain": [
       "         Date Close/Last     Volume     Open     High      Low\n",
       "0  11/21/2024    $146.67  400946600  $149.35  $152.89  $140.70\n",
       "1  11/20/2024    $145.89  309871700  $147.41  $147.56  $142.73\n",
       "2  11/19/2024    $147.01  227834900  $141.32  $147.13  $140.99\n",
       "3  11/18/2024    $140.15  221866000  $139.50  $141.55  $137.15\n",
       "4  11/15/2024    $141.98  250132900  $144.87  $145.24  $140.08"
      ]
     },
     "execution_count": 2,
     "metadata": {},
     "output_type": "execute_result"
    }
   ],
   "source": [
    "original_dataset = pd.read_csv('nvidia.csv')\n",
    "original_dataset.head(5)"
   ]
  },
  {
   "cell_type": "markdown",
   "metadata": {},
   "source": [
    "### Change date string to date object"
   ]
  },
  {
   "cell_type": "code",
   "execution_count": 3,
   "metadata": {},
   "outputs": [],
   "source": [
    "def str_to_date(date_str):\n",
    "    split = date_str.split('/')\n",
    "    month, day, year = int(split[0]), int(split[1]), int(split[2])\n",
    "    return datetime.date(year, month, day)"
   ]
  },
  {
   "cell_type": "code",
   "execution_count": 4,
   "metadata": {},
   "outputs": [],
   "source": [
    "original_dataset['Date'] = original_dataset['Date'].apply(str_to_date)"
   ]
  },
  {
   "cell_type": "markdown",
   "metadata": {},
   "source": [
    "### Change money string to float"
   ]
  },
  {
   "cell_type": "code",
   "execution_count": 5,
   "metadata": {},
   "outputs": [],
   "source": [
    "def str_to_float(price_str):\n",
    "    price_str = price_str.replace('$', '')\n",
    "    return float(price_str)"
   ]
  },
  {
   "cell_type": "code",
   "execution_count": 6,
   "metadata": {},
   "outputs": [],
   "source": [
    "original_dataset['Close/Last'] = original_dataset['Close/Last'].apply(str_to_float)"
   ]
  },
  {
   "cell_type": "markdown",
   "metadata": {},
   "source": [
    "### Get data only with date and close price"
   ]
  },
  {
   "cell_type": "code",
   "execution_count": 7,
   "metadata": {},
   "outputs": [
    {
     "data": {
      "text/html": [
       "<div>\n",
       "<style scoped>\n",
       "    .dataframe tbody tr th:only-of-type {\n",
       "        vertical-align: middle;\n",
       "    }\n",
       "\n",
       "    .dataframe tbody tr th {\n",
       "        vertical-align: top;\n",
       "    }\n",
       "\n",
       "    .dataframe thead th {\n",
       "        text-align: right;\n",
       "    }\n",
       "</style>\n",
       "<table border=\"1\" class=\"dataframe\">\n",
       "  <thead>\n",
       "    <tr style=\"text-align: right;\">\n",
       "      <th></th>\n",
       "      <th>Date</th>\n",
       "      <th>Close/Last</th>\n",
       "    </tr>\n",
       "  </thead>\n",
       "  <tbody>\n",
       "    <tr>\n",
       "      <th>2511</th>\n",
       "      <td>2014-12-01</td>\n",
       "      <td>0.5145</td>\n",
       "    </tr>\n",
       "    <tr>\n",
       "      <th>2512</th>\n",
       "      <td>2014-11-28</td>\n",
       "      <td>0.5242</td>\n",
       "    </tr>\n",
       "    <tr>\n",
       "      <th>2513</th>\n",
       "      <td>2014-11-26</td>\n",
       "      <td>0.5229</td>\n",
       "    </tr>\n",
       "    <tr>\n",
       "      <th>2514</th>\n",
       "      <td>2014-11-25</td>\n",
       "      <td>0.5142</td>\n",
       "    </tr>\n",
       "    <tr>\n",
       "      <th>2515</th>\n",
       "      <td>2014-11-24</td>\n",
       "      <td>0.5145</td>\n",
       "    </tr>\n",
       "  </tbody>\n",
       "</table>\n",
       "</div>"
      ],
      "text/plain": [
       "            Date  Close/Last\n",
       "2511  2014-12-01      0.5145\n",
       "2512  2014-11-28      0.5242\n",
       "2513  2014-11-26      0.5229\n",
       "2514  2014-11-25      0.5142\n",
       "2515  2014-11-24      0.5145"
      ]
     },
     "execution_count": 7,
     "metadata": {},
     "output_type": "execute_result"
    }
   ],
   "source": [
    "dataset_with_close = original_dataset[['Date','Close/Last']]\n",
    "dataset_with_close.tail(5)"
   ]
  },
  {
   "cell_type": "markdown",
   "metadata": {},
   "source": [
    "### Plot the data"
   ]
  },
  {
   "cell_type": "code",
   "execution_count": 8,
   "metadata": {},
   "outputs": [
    {
     "data": {
      "text/plain": [
       "[<matplotlib.lines.Line2D at 0x7f59ec8acbe0>]"
      ]
     },
     "execution_count": 8,
     "metadata": {},
     "output_type": "execute_result"
    },
    {
     "data": {
      "image/png": "[encoded data removed]",
      "text/plain": [
       "<Figure size 700x300 with 1 Axes>"
      ]
     },
     "metadata": {},
     "output_type": "display_data"
    }
   ],
   "source": [
    "plt.figure(figsize=(7, 3))\n",
    "plt.plot(original_dataset['Date'],original_dataset['Close/Last'])"
   ]
  },
  {
   "cell_type": "code",
   "execution_count": 9,
   "metadata": {},
   "outputs": [],
   "source": [
    "def context_window(dataset, block_size):\n",
    "    new_dataset = pd.DataFrame(columns=['target_date', 'target_value'] + [f'prev_{i}' for i in range(1,block_size+1)])\n",
    "    span = len(dataset) - block_size\n",
    "    for i in range(span):\n",
    "        target_date = dataset.iloc[i]['Date']\n",
    "        target_value = dataset.iloc[i]['Close/Last']\n",
    "        window_data = [dataset.iloc[i+j]['Close/Last'] for j in range(1,block_size+1)]\n",
    "        new_dataset.loc[i] = [target_date, target_value] + window_data\n",
    "    return new_dataset"
   ]
  },
  {
   "cell_type": "code",
   "execution_count": 10,
   "metadata": {},
   "outputs": [
    {
     "data": {
      "text/html": [
       "<div>\n",
       "<style scoped>\n",
       "    .dataframe tbody tr th:only-of-type {\n",
       "        vertical-align: middle;\n",
       "    }\n",
       "\n",
       "    .dataframe tbody tr th {\n",
       "        vertical-align: top;\n",
       "    }\n",
       "\n",
       "    .dataframe thead th {\n",
       "        text-align: right;\n",
       "    }\n",
       "</style>\n",
       "<table border=\"1\" class=\"dataframe\">\n",
       "  <thead>\n",
       "    <tr style=\"text-align: right;\">\n",
       "      <th></th>\n",
       "      <th>target_date</th>\n",
       "      <th>target_value</th>\n",
       "      <th>prev_1</th>\n",
       "      <th>prev_2</th>\n",
       "      <th>prev_3</th>\n",
       "      <th>prev_4</th>\n",
       "      <th>prev_5</th>\n",
       "    </tr>\n",
       "  </thead>\n",
       "  <tbody>\n",
       "    <tr>\n",
       "      <th>2506</th>\n",
       "      <td>2014-12-08</td>\n",
       "      <td>0.5200</td>\n",
       "      <td>0.5268</td>\n",
       "      <td>0.5238</td>\n",
       "      <td>0.5285</td>\n",
       "      <td>0.5152</td>\n",
       "      <td>0.5145</td>\n",
       "    </tr>\n",
       "    <tr>\n",
       "      <th>2507</th>\n",
       "      <td>2014-12-05</td>\n",
       "      <td>0.5268</td>\n",
       "      <td>0.5238</td>\n",
       "      <td>0.5285</td>\n",
       "      <td>0.5152</td>\n",
       "      <td>0.5145</td>\n",
       "      <td>0.5242</td>\n",
       "    </tr>\n",
       "    <tr>\n",
       "      <th>2508</th>\n",
       "      <td>2014-12-04</td>\n",
       "      <td>0.5238</td>\n",
       "      <td>0.5285</td>\n",
       "      <td>0.5152</td>\n",
       "      <td>0.5145</td>\n",
       "      <td>0.5242</td>\n",
       "      <td>0.5229</td>\n",
       "    </tr>\n",
       "    <tr>\n",
       "      <th>2509</th>\n",
       "      <td>2014-12-03</td>\n",
       "      <td>0.5285</td>\n",
       "      <td>0.5152</td>\n",
       "      <td>0.5145</td>\n",
       "      <td>0.5242</td>\n",
       "      <td>0.5229</td>\n",
       "      <td>0.5142</td>\n",
       "    </tr>\n",
       "    <tr>\n",
       "      <th>2510</th>\n",
       "      <td>2014-12-02</td>\n",
       "      <td>0.5152</td>\n",
       "      <td>0.5145</td>\n",
       "      <td>0.5242</td>\n",
       "      <td>0.5229</td>\n",
       "      <td>0.5142</td>\n",
       "      <td>0.5145</td>\n",
       "    </tr>\n",
       "  </tbody>\n",
       "</table>\n",
       "</div>"
      ],
      "text/plain": [
       "     target_date  target_value  prev_1  prev_2  prev_3  prev_4  prev_5\n",
       "2506  2014-12-08        0.5200  0.5268  0.5238  0.5285  0.5152  0.5145\n",
       "2507  2014-12-05        0.5268  0.5238  0.5285  0.5152  0.5145  0.5242\n",
       "2508  2014-12-04        0.5238  0.5285  0.5152  0.5145  0.5242  0.5229\n",
       "2509  2014-12-03        0.5285  0.5152  0.5145  0.5242  0.5229  0.5142\n",
       "2510  2014-12-02        0.5152  0.5145  0.5242  0.5229  0.5142  0.5145"
      ]
     },
     "execution_count": 10,
     "metadata": {},
     "output_type": "execute_result"
    }
   ],
   "source": [
    "block_size = 5\n",
    "new_dataset = context_window(dataset_with_close, block_size)\n",
    "new_dataset.tail(5)"
   ]
  },
  {
   "cell_type": "code",
   "execution_count": 25,
   "metadata": {},
   "outputs": [],
   "source": [
    "def get_dataset(original_dataset, block_size):\n",
    "    np_dataset = original_dataset.to_numpy()\n",
    "    dates = np_dataset[:,0]\n",
    "    X = np_dataset[:,2:].reshape(-1,block_size, 1)\n",
    "    Y = np_dataset[:,1]\n",
    "    return dates, X.astype(np.float32), Y.astype(np.float32)"
   ]
  },
  {
   "cell_type": "code",
   "execution_count": 26,
   "metadata": {},
   "outputs": [
    {
     "data": {
      "text/plain": [
       "((2511,), (2511, 5, 1), (2511,))"
      ]
     },
     "execution_count": 26,
     "metadata": {},
     "output_type": "execute_result"
    }
   ],
   "source": [
    "dates, X, Y = get_dataset(new_dataset, block_size)\n",
    "dates.shape, X.shape, Y.shape"
   ]
  },
  {
   "cell_type": "code",
   "execution_count": 27,
   "metadata": {},
   "outputs": [
    {
     "data": {
      "image/png": "[encoded data removed]",
      "text/plain": [
       "<Figure size 700x300 with 1 Axes>"
      ]
     },
     "metadata": {},
     "output_type": "display_data"
    }
   ],
   "source": [
    "n_90 = int(len(dates)*0.1)\n",
    "n_80 = int(len(dates)*0.2)\n",
    "dates_train, X_train, Y_train = dates[n_80:], X[n_80:], Y[n_80:]\n",
    "dates_val, X_val, Y_val = dates[n_90:n_80], X[n_90:n_80], Y[n_90:n_80]\n",
    "dates_test, X_test, Y_test = dates[:n_90], X[:n_90], Y[:n_90]\n",
    "\n",
    "plt.figure(figsize=(7, 3))\n",
    "plt.plot(dates_train,Y_train)\n",
    "plt.plot(dates_val,Y_val)\n",
    "plt.plot(dates_test,Y_test)\n",
    "plt.legend(['train', 'val', 'test'])\n",
    "plt.show()"
   ]
  },
  {
   "cell_type": "code",
   "execution_count": 32,
   "metadata": {},
   "outputs": [],
   "source": [
    "class LSTMModel(nn.Module):\n",
    "    def __init__(self,input_size=block_size):\n",
    "        super(LSTMModel, self).__init__()\n",
    "        self.lstm = nn.LSTM(input_size=1, hidden_size=64, batch_first=True)\n",
    "        self.fc1 = nn.Linear(64, 32)\n",
    "        self.fc2 = nn.Linear(32, 32)\n",
    "        self.fc3 = nn.Linear(32, 1)\n",
    "        self.relu = nn.ReLU()\n",
    "\n",
    "    def forward(self, x):\n",
    "        # LSTM layer\n",
    "        lstm_out, _ = self.lstm(x)\n",
    "        \n",
    "        # Take the last time step\n",
    "        x = lstm_out[:, -1, :]\n",
    "        \n",
    "        # Fully connected layers\n",
    "        x = self.relu(self.fc1(x))\n",
    "        x = self.relu(self.fc2(x))\n",
    "        x = self.fc3(x)\n",
    "        \n",
    "        return x\n"
   ]
  },
  {
   "cell_type": "code",
   "execution_count": 35,
   "metadata": {},
   "outputs": [],
   "source": [
    "# Model initialization\n",
    "model = LSTMModel()\n",
    "\n",
    "# Loss and Optimizer\n",
    "criterion = nn.L1Loss()\n",
    "optimizer = optim.Adam(model.parameters(), lr=0.001)"
   ]
  },
  {
   "cell_type": "code",
   "execution_count": 34,
   "metadata": {},
   "outputs": [
    {
     "name": "stderr",
     "output_type": "stream",
     "text": [
      "/datas/store163/othsueh/miniconda3/envs/money/lib/python3.9/site-packages/torch/nn/modules/loss.py:608: UserWarning: Using a target size (torch.Size([2009])) that is different to the input size (torch.Size([2009, 1])). This will likely lead to incorrect results due to broadcasting. Please ensure they have the same size.\n",
      "  return F.mse_loss(input, target, reduction=self.reduction)\n",
      "/datas/store163/othsueh/miniconda3/envs/money/lib/python3.9/site-packages/torch/nn/modules/loss.py:608: UserWarning: Using a target size (torch.Size([251])) that is different to the input size (torch.Size([251, 1])). This will likely lead to incorrect results due to broadcasting. Please ensure they have the same size.\n",
      "  return F.mse_loss(input, target, reduction=self.reduction)\n"
     ]
    },
    {
     "name": "stdout",
     "output_type": "stream",
     "text": [
      "Epoch [1/100], Training Loss: 114.9650, Validation Loss: 1234.6338\n",
      "Epoch [11/100], Training Loss: 112.2199, Validation Loss: 1218.8375\n",
      "Epoch [21/100], Training Loss: 107.6510, Validation Loss: 1193.3774\n",
      "Epoch [31/100], Training Loss: 96.0208, Validation Loss: 1129.2172\n",
      "Epoch [41/100], Training Loss: 72.1184, Validation Loss: 984.0389\n",
      "Epoch [51/100], Training Loss: 56.9524, Validation Loss: 764.7236\n",
      "Epoch [61/100], Training Loss: 57.3993, Validation Loss: 763.3524\n",
      "Epoch [71/100], Training Loss: 56.3921, Validation Loss: 831.8947\n",
      "Epoch [81/100], Training Loss: 56.2605, Validation Loss: 820.5560\n",
      "Epoch [91/100], Training Loss: 56.1479, Validation Loss: 796.2929\n"
     ]
    }
   ],
   "source": [
    "# Training loop (replace with your actual training code)\n",
    "def train(model, X_train, y_train, X_val, y_val, epochs=100):\n",
    "    for epoch in range(epochs):\n",
    "        # Convert numpy arrays to PyTorch tensors if needed\n",
    "        X_train_tensor = torch.FloatTensor(X_train)\n",
    "        y_train_tensor = torch.FloatTensor(y_train)\n",
    "        \n",
    "        # Zero the parameter gradients\n",
    "        optimizer.zero_grad()\n",
    "        \n",
    "        # Forward pass\n",
    "        outputs = model(X_train_tensor)\n",
    "        \n",
    "        # Compute loss\n",
    "        loss = criterion(outputs, y_train_tensor)\n",
    "        \n",
    "        # Backward pass and optimize\n",
    "        loss.backward()\n",
    "        optimizer.step()\n",
    "        \n",
    "        # Optional: Validation and logging\n",
    "        if epoch % 10 == 0:\n",
    "            with torch.no_grad():\n",
    "                val_outputs = model(torch.FloatTensor(X_val))\n",
    "                val_loss = criterion(val_outputs, torch.FloatTensor(y_val))\n",
    "                print(f'Epoch [{epoch+1}/{epochs}], Training Loss: {loss.item():.4f}, Validation Loss: {val_loss.item():.4f}')\n",
    "\n",
    "# Example usage\n",
    "train(model, X_train, Y_train, X_val, Y_val)"
   ]
  }
 ],
 "metadata": {
  "kernelspec": {
   "display_name": "money",
   "language": "python",
   "name": "python3"
  },
  "language_info": {
   "codemirror_mode": {
    "name": "ipython",
    "version": 3
   },
   "file_extension": ".py",
   "mimetype": "text/x-python",
   "name": "python",
   "nbconvert_exporter": "python",
   "pygments_lexer": "ipython3",
   "version": "3.9.20"
  }
 },
 "nbformat": 4,
 "nbformat_minor": 2
}
